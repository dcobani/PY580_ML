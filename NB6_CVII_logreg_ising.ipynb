{
  "cells": [
    {
      "cell_type": "markdown",
      "metadata": {
        "id": "IB1AJEo_zMP4"
      },
      "source": [
        "# Notebook 6: Phases of the Ising Model with Logistic Regression\n"
      ]
    },
    {
      "cell_type": "markdown",
      "metadata": {
        "id": "VhnMxJX2zMP8"
      },
      "source": [
        "## Learning Goal\n",
        "The goal of this notebook is to show how one can employ Logistic Regression to classify the states of the 2D Ising model according to their phase. We will discuss overfitting, regularization, and learn how to use the scikit-learn library. We will also examine the role of the optimizer in making predictions.\n",
        "\n",
        "## Overview\n",
        "\n",
        "The energy function of the classical Ising model is given by\n",
        "\n",
        "$$ H = -J\\sum_{\\langle ij\\rangle}S_{i}S_j,\\qquad \\qquad S_j\\in\\{\\pm 1\\} $$\n",
        "\n",
        "where the lattice site indices $i,j$ run over all nearest neighbors of a 2D square lattice, and $J$ is some arbitrary interaction energy scale. We adopt periodic boundary conditions. Onsager proved that this model undergoes a thermal phase transition in the thermodynamic limit from an ordered ferromagnet with all spins aligned to a disordered phase at the critical temperature $T_c/J=2/\\log(1+\\sqrt{2})\\approx 2.26$. For any finite system size, this critical point is expanded to a critical region around $T_c$.\n",
        "\n"
      ]
    },
    {
      "cell_type": "markdown",
      "metadata": {
        "id": "iRNXrd6YzMP9"
      },
      "source": [
        "An interesting question to ask is whether one can train a statistical model to distinguish between the two phases of the Ising model. If successful, this can be used to locate the position of the critical point in more complicated models where an exact analytical solution has so far remained elusive. \n",
        "\n",
        "In other words, given an Ising state, we would like to classify whether it belongs to the ordered or the disordered phase, without any additional information other than the spin configuration itself. This categorical machine learning problem is well suited for logistic regression. Notice that, for the purposes of applying logistic regression, the 2D spin state of the Ising model will be flattened out to a 1D array, so it will not be easy to learn information about the structure of the contiguous ordered 2D domains [see figure below]. Such information can be incorporated using other methods such as multi-layer deep convolutional neural networks (CNNs), see Secs. IX, X and XI of the review and the corresponding notebooks.\n",
        "\n",
        "## The 2D Ising Dataset\n",
        "\n",
        "To this end, we consider the 2D Ising model on a $40\\times 40$ square lattice, and use Monte-Carlo (MC) sampling to prepare $10^4$ states at every fixed temperature $T$ out of a pre-defined set $T\\in[0.25,0.5,\\cdots,4.0]$. Using Onsager's criterion, we can assign a label to each state according to its phase: $0$ if the state is disordered, and $1$ if it is ordered. Our goal is to predict the phase of a sample given the spin configuration.\n",
        "\n",
        "It is well-known that, near the critical temperature $T_c$, the ferromagnetic correlation length diverges which, among other things, leads to a critical slowing down of the MC algorithm. Therefore, we expect identifying the phases to be harder in the critical region. With this in mind, consider the following three types of states: ordered ($T/J<2.0$), critical ($2.0\\leq T/J\\leq 2.5)$ and disordered ($T/J>2.5$). We use both ordered and disordered states to train the logistic regressor and once the supervised training procedure is complete, we evaluate the performance of our classification model on unseen ordered, disordered and critical states. "
      ]
    },
    {
      "cell_type": "code",
      "execution_count": 28,
      "metadata": {
        "id": "MbNYAU2qzMP-"
      },
      "outputs": [],
      "source": [
        "import numpy as np\n",
        "\n",
        "import warnings\n",
        "#Comment this to turn on warnings\n",
        "#warnings.filterwarnings('ignore')\n",
        "\n",
        "np.random.seed() # shuffle random seed generator\n",
        "\n",
        "# Ising model parameters\n",
        "L=40 # linear system size\n",
        "J=-1.0 # Ising interaction\n",
        "T=np.linspace(0.25,4.0,16) # set of temperatures\n",
        "T_c=2.26 # Onsager critical temperature in the TD limit"
      ]
    },
    {
      "cell_type": "markdown",
      "metadata": {
        "id": "WLmFQVyuzMQA"
      },
      "source": [
        "# Loading in the Ising dataset\n",
        "We now load in the data which is hosted on Pankaj Mehta's [website](http://physics.bu.edu/~pankajm/MLnotebooks.html)."
      ]
    },
    {
      "cell_type": "code",
      "execution_count": 29,
      "metadata": {
        "id": "bKlkNBfMzMQB"
      },
      "outputs": [],
      "source": [
        "import pickle, os\n",
        "from urllib.request import urlopen \n",
        "\n",
        "# url to data\n",
        "url_main = 'https://physics.bu.edu/~pankajm/ML-Review-Datasets/isingMC/';\n",
        "\n",
        "######### LOAD DATA\n",
        "# The data consists of 16*10000 samples taken in T=np.arange(0.25,4.0001,0.25):\n",
        "data_file_name = \"Ising2DFM_reSample_L40_T=All.pkl\" \n",
        "# The labels are obtained from the following file:\n",
        "label_file_name = \"Ising2DFM_reSample_L40_T=All_labels.pkl\"\n",
        "\n",
        "\n",
        "#DATA\n",
        "data = pickle.load(urlopen(url_main + data_file_name)) # pickle reads the file and returns the Python object (1D array, compressed bits)\n",
        "data = np.unpackbits(data).reshape(-1, 1600) # Decompress array and reshape for convenience\n",
        "data=data.astype('int')\n",
        "data[np.where(data==0)]=-1 # map 0 state to -1 (Ising variable can take values +/-1)\n",
        "\n",
        "#LABELS (convention is 1 for ordered states and 0 for disordered states)\n",
        "labels = pickle.load(urlopen(url_main + label_file_name)) # pickle reads the file and returns the Python object (here just a 1D array with the binary labels)"
      ]
    },
    {
      "cell_type": "markdown",
      "metadata": {
        "id": "28BOn2wIzMQC"
      },
      "source": [
        "# Constructing the training and the test sets"
      ]
    },
    {
      "cell_type": "code",
      "execution_count": 30,
      "metadata": {
        "id": "wMR4lqYOzMQC",
        "outputId": "a8f49422-c0e0-4e37-b9a0-54356a937a55",
        "colab": {
          "base_uri": "https://localhost:8080/"
        }
      },
      "outputs": [
        {
          "output_type": "stream",
          "name": "stdout",
          "text": [
            "X_train shape: (65000, 1600)\n",
            "Y_train shape: (65000,)\n",
            "\n",
            "65000 train samples\n",
            "30000 critical samples\n",
            "65000 test samples\n"
          ]
        }
      ],
      "source": [
        "from sklearn.model_selection import train_test_split\n",
        "\n",
        "###### define ML parameters\n",
        "num_classes=2\n",
        "train_to_test_ratio=0.5 # training samples\n",
        "\n",
        "# divide data into ordered, critical and disordered\n",
        "X_ordered=data[:70000,:]\n",
        "Y_ordered=labels[:70000]\n",
        "\n",
        "X_critical=data[70000:100000,:]\n",
        "Y_critical=labels[70000:100000]\n",
        "\n",
        "X_disordered=data[100000:,:]\n",
        "Y_disordered=labels[100000:]\n",
        "\n",
        "del data,labels\n",
        "\n",
        "# define training and test data sets\n",
        "X=np.concatenate((X_ordered,X_disordered))\n",
        "Y=np.concatenate((Y_ordered,Y_disordered))\n",
        "\n",
        "# pick random data points from ordered and disordered states \n",
        "# to create the training and test sets\n",
        "X_train,X_test,Y_train,Y_test=train_test_split(X,Y,train_size=train_to_test_ratio,test_size=1.0-train_to_test_ratio)\n",
        "\n",
        "# full data set\n",
        "X=np.concatenate((X_critical,X))\n",
        "Y=np.concatenate((Y_critical,Y))\n",
        "\n",
        "print('X_train shape:', X_train.shape)\n",
        "print('Y_train shape:', Y_train.shape)\n",
        "print()\n",
        "print(X_train.shape[0], 'train samples')\n",
        "print(X_critical.shape[0], 'critical samples')\n",
        "print(X_test.shape[0], 'test samples')"
      ]
    },
    {
      "cell_type": "markdown",
      "metadata": {
        "id": "lpMJ1EIYzMQE"
      },
      "source": [
        "# Visualizing the states"
      ]
    },
    {
      "cell_type": "code",
      "execution_count": 32,
      "metadata": {
        "id": "6pfL-7VEzMQE",
        "outputId": "f4770ace-af78-4bfb-a753-36bba7accfdc",
        "colab": {
          "base_uri": "https://localhost:8080/",
          "height": 290
        }
      },
      "outputs": [
        {
          "output_type": "display_data",
          "data": {
            "text/plain": [
              "<Figure size 432x288 with 3 Axes>"
            ],
            "image/png": "[encoded data removed]"
          },
          "metadata": {
            "needs_background": "light"
          }
        }
      ],
      "source": [
        "##### plot a few Ising states\n",
        "%matplotlib inline\n",
        "import matplotlib.pyplot as plt\n",
        "from mpl_toolkits.axes_grid1 import make_axes_locatable\n",
        "\n",
        "# set colourbar map\n",
        "cmap_args=dict(cmap='plasma_r')\n",
        "\n",
        "# plot states\n",
        "fig, axarr = plt.subplots(nrows=1, ncols=3)\n",
        "\n",
        "axarr[0].imshow(X_ordered[20001].reshape(L,L),**cmap_args)\n",
        "axarr[0].set_title('$\\\\mathrm{ordered\\\\ phase}$',fontsize=16)\n",
        "axarr[0].tick_params(labelsize=16)\n",
        "\n",
        "axarr[1].imshow(X_critical[10001].reshape(L,L),**cmap_args)\n",
        "axarr[1].set_title('$\\\\mathrm{critical\\\\ region}$',fontsize=16)\n",
        "axarr[1].tick_params(labelsize=16)\n",
        "\n",
        "im=axarr[2].imshow(X_disordered[50001].reshape(L,L),**cmap_args)\n",
        "axarr[2].set_title('$\\\\mathrm{disordered\\\\ phase}$',fontsize=16)\n",
        "axarr[2].tick_params(labelsize=16)\n",
        "\n",
        "fig.subplots_adjust(right=2.0)\n",
        "\n",
        "plt.show()"
      ]
    },
    {
      "cell_type": "markdown",
      "metadata": {
        "id": "-iiTtE6FzMQF"
      },
      "source": [
        "## Cost function, optimizers, regularizers, and performance metrics\n",
        "\n",
        "In Sec. VII of the review, we have shown that the cross-entropy is a natural cost function used for training a logistic regressor. As we already mentioned, minimizing it requires the use of numerical toolboxes. Here, we compare the performance of two different optimization routines: a `liblinear` [the default one for scikit's logistic regression], and stochastic gradient descent (SGD) [see Sec. IV of the review for more details].\n",
        "\n",
        "It is important to note that all these methods have built-in regularizers. Indeed, we did not discuss the role of the regularisor explicitly in the context of Logistic Regression extensively, yet this concept is crucial in order to prevent overfitting, and we encourage the interested reader to play with the different regularization types and regularization strengths and compare model performances. \n",
        "\n",
        "Below, we define the accuracy of a classification model on a given data set as the percentage of correctly classified data points. Comparing the accuracy on the training and test data, we obtain a good estimate of the degree of overfitting. Well-trained models do not overfit the data, which is reflected in an almost equal performance on the training and test data sets [recall that the test set consists of samples which the model has not been trained on]. "
      ]
    },
    {
      "cell_type": "markdown",
      "metadata": {
        "id": "SymtQk7bzMQG"
      },
      "source": [
        "# Run the cell below (this may take several minutes)"
      ]
    },
    {
      "cell_type": "code",
      "execution_count": 33,
      "metadata": {
        "id": "4WIokUnbzMQG",
        "outputId": "67a9b7e6-9cc0-492d-a37f-3ae78aae5502",
        "colab": {
          "base_uri": "https://localhost:8080/",
          "height": 1000
        }
      },
      "outputs": [
        {
          "output_type": "stream",
          "name": "stdout",
          "text": [
            "accuracy: train, test, critical\n",
            "liblin: 0.7266, 0.6897, 0.6222\n"
          ]
        },
        {
          "output_type": "stream",
          "name": "stderr",
          "text": [
            "/usr/local/lib/python3.8/dist-packages/sklearn/linear_model/_stochastic_gradient.py:163: FutureWarning: The loss 'log' was deprecated in v1.1 and will be removed in version 1.3. Use `loss='log_loss'` which is equivalent.\n",
            "  warnings.warn(\n",
            "/usr/local/lib/python3.8/dist-packages/sklearn/linear_model/_stochastic_gradient.py:683: ConvergenceWarning: Maximum number of iteration reached before convergence. Consider increasing max_iter to improve the fit.\n",
            "  self._partial_fit(\n"
          ]
        },
        {
          "output_type": "stream",
          "name": "stdout",
          "text": [
            "SGD: 0.4876, 0.4741, 0.5092\n",
            "finished computing 1/11 iterations\n",
            "accuracy: train, test, critical\n",
            "liblin: 0.7266, 0.6897, 0.6222\n"
          ]
        },
        {
          "output_type": "stream",
          "name": "stderr",
          "text": [
            "/usr/local/lib/python3.8/dist-packages/sklearn/linear_model/_stochastic_gradient.py:163: FutureWarning: The loss 'log' was deprecated in v1.1 and will be removed in version 1.3. Use `loss='log_loss'` which is equivalent.\n",
            "  warnings.warn(\n",
            "/usr/local/lib/python3.8/dist-packages/sklearn/linear_model/_stochastic_gradient.py:683: ConvergenceWarning: Maximum number of iteration reached before convergence. Consider increasing max_iter to improve the fit.\n",
            "  self._partial_fit(\n"
          ]
        },
        {
          "output_type": "stream",
          "name": "stdout",
          "text": [
            "SGD: 0.5454, 0.5259, 0.5414\n",
            "finished computing 2/11 iterations\n",
            "accuracy: train, test, critical\n",
            "liblin: 0.7266, 0.6897, 0.6222\n"
          ]
        },
        {
          "output_type": "stream",
          "name": "stderr",
          "text": [
            "/usr/local/lib/python3.8/dist-packages/sklearn/linear_model/_stochastic_gradient.py:163: FutureWarning: The loss 'log' was deprecated in v1.1 and will be removed in version 1.3. Use `loss='log_loss'` which is equivalent.\n",
            "  warnings.warn(\n"
          ]
        },
        {
          "output_type": "stream",
          "name": "stdout",
          "text": [
            "SGD: 0.4888, 0.4513, 0.5356\n",
            "finished computing 3/11 iterations\n",
            "accuracy: train, test, critical\n",
            "liblin: 0.7266, 0.6897, 0.6222\n"
          ]
        },
        {
          "output_type": "stream",
          "name": "stderr",
          "text": [
            "/usr/local/lib/python3.8/dist-packages/sklearn/linear_model/_stochastic_gradient.py:163: FutureWarning: The loss 'log' was deprecated in v1.1 and will be removed in version 1.3. Use `loss='log_loss'` which is equivalent.\n",
            "  warnings.warn(\n"
          ]
        },
        {
          "output_type": "stream",
          "name": "stdout",
          "text": [
            "SGD: 0.4667, 0.4276, 0.4887\n",
            "finished computing 4/11 iterations\n",
            "accuracy: train, test, critical\n",
            "liblin: 0.7266, 0.6897, 0.6222\n"
          ]
        },
        {
          "output_type": "stream",
          "name": "stderr",
          "text": [
            "/usr/local/lib/python3.8/dist-packages/sklearn/linear_model/_stochastic_gradient.py:163: FutureWarning: The loss 'log' was deprecated in v1.1 and will be removed in version 1.3. Use `loss='log_loss'` which is equivalent.\n",
            "  warnings.warn(\n"
          ]
        },
        {
          "output_type": "stream",
          "name": "stdout",
          "text": [
            "SGD: 0.6779, 0.6474, 0.6715\n",
            "finished computing 5/11 iterations\n",
            "accuracy: train, test, critical\n",
            "liblin: 0.7266, 0.6897, 0.6222\n"
          ]
        },
        {
          "output_type": "stream",
          "name": "stderr",
          "text": [
            "/usr/local/lib/python3.8/dist-packages/sklearn/linear_model/_stochastic_gradient.py:163: FutureWarning: The loss 'log' was deprecated in v1.1 and will be removed in version 1.3. Use `loss='log_loss'` which is equivalent.\n",
            "  warnings.warn(\n"
          ]
        },
        {
          "output_type": "stream",
          "name": "stdout",
          "text": [
            "SGD: 0.6540, 0.6285, 0.6532\n",
            "finished computing 6/11 iterations\n",
            "accuracy: train, test, critical\n",
            "liblin: 0.7264, 0.6895, 0.6221\n"
          ]
        },
        {
          "output_type": "stream",
          "name": "stderr",
          "text": [
            "/usr/local/lib/python3.8/dist-packages/sklearn/linear_model/_stochastic_gradient.py:163: FutureWarning: The loss 'log' was deprecated in v1.1 and will be removed in version 1.3. Use `loss='log_loss'` which is equivalent.\n",
            "  warnings.warn(\n"
          ]
        },
        {
          "output_type": "stream",
          "name": "stdout",
          "text": [
            "SGD: 0.4608, 0.4622, 0.3333\n",
            "finished computing 7/11 iterations\n",
            "accuracy: train, test, critical\n",
            "liblin: 0.7261, 0.6890, 0.6234\n"
          ]
        },
        {
          "output_type": "stream",
          "name": "stderr",
          "text": [
            "/usr/local/lib/python3.8/dist-packages/sklearn/linear_model/_stochastic_gradient.py:163: FutureWarning: The loss 'log' was deprecated in v1.1 and will be removed in version 1.3. Use `loss='log_loss'` which is equivalent.\n",
            "  warnings.warn(\n"
          ]
        },
        {
          "output_type": "stream",
          "name": "stdout",
          "text": [
            "SGD: 0.4608, 0.4622, 0.3333\n",
            "finished computing 8/11 iterations\n",
            "accuracy: train, test, critical\n",
            "liblin: 0.7216, 0.6862, 0.6310\n"
          ]
        },
        {
          "output_type": "stream",
          "name": "stderr",
          "text": [
            "/usr/local/lib/python3.8/dist-packages/sklearn/linear_model/_stochastic_gradient.py:163: FutureWarning: The loss 'log' was deprecated in v1.1 and will be removed in version 1.3. Use `loss='log_loss'` which is equivalent.\n",
            "  warnings.warn(\n"
          ]
        },
        {
          "output_type": "stream",
          "name": "stdout",
          "text": [
            "SGD: 0.4608, 0.4622, 0.3333\n",
            "finished computing 9/11 iterations\n",
            "accuracy: train, test, critical\n",
            "liblin: 0.7042, 0.6720, 0.6594\n"
          ]
        },
        {
          "output_type": "stream",
          "name": "stderr",
          "text": [
            "/usr/local/lib/python3.8/dist-packages/sklearn/linear_model/_stochastic_gradient.py:163: FutureWarning: The loss 'log' was deprecated in v1.1 and will be removed in version 1.3. Use `loss='log_loss'` which is equivalent.\n",
            "  warnings.warn(\n"
          ]
        },
        {
          "output_type": "stream",
          "name": "stdout",
          "text": [
            "SGD: 0.4608, 0.4622, 0.3333\n",
            "finished computing 10/11 iterations\n",
            "accuracy: train, test, critical\n",
            "liblin: 0.6975, 0.6683, 0.6433\n"
          ]
        },
        {
          "output_type": "stream",
          "name": "stderr",
          "text": [
            "/usr/local/lib/python3.8/dist-packages/sklearn/linear_model/_stochastic_gradient.py:163: FutureWarning: The loss 'log' was deprecated in v1.1 and will be removed in version 1.3. Use `loss='log_loss'` which is equivalent.\n",
            "  warnings.warn(\n"
          ]
        },
        {
          "output_type": "stream",
          "name": "stdout",
          "text": [
            "SGD: 0.4608, 0.4622, 0.3333\n",
            "finished computing 11/11 iterations\n"
          ]
        },
        {
          "output_type": "display_data",
          "data": {
            "text/plain": [
              "<Figure size 432x288 with 1 Axes>"
            ],
            "image/png": "[encoded data removed]"
          },
          "metadata": {
            "needs_background": "light"
          }
        }
      ],
      "source": [
        "###### apply logistic regression\n",
        "from sklearn import linear_model\n",
        "from sklearn.neural_network import MLPClassifier\n",
        "\n",
        "\n",
        "# define regularisation parameter\n",
        "lmbdas=np.logspace(-5,5,11)\n",
        "\n",
        "# preallocate data\n",
        "train_accuracy=np.zeros(lmbdas.shape,np.float64)\n",
        "test_accuracy=np.zeros(lmbdas.shape,np.float64)\n",
        "critical_accuracy=np.zeros(lmbdas.shape,np.float64)\n",
        "\n",
        "train_accuracy_SGD=np.zeros(lmbdas.shape,np.float64)\n",
        "test_accuracy_SGD=np.zeros(lmbdas.shape,np.float64)\n",
        "critical_accuracy_SGD=np.zeros(lmbdas.shape,np.float64)\n",
        "\n",
        "# loop over regularisation strength\n",
        "for i,lmbda in enumerate(lmbdas):\n",
        "\n",
        "    # define logistic regressor\n",
        "    logreg=linear_model.LogisticRegression(C=1.0/lmbda,random_state=1,verbose=0,max_iter=int(1E3),tol=1E-5,\n",
        "                                           solver='liblinear')\n",
        "\n",
        "    # fit training data\n",
        "    logreg.fit(X_train, Y_train)\n",
        "\n",
        "    # check accuracy\n",
        "    train_accuracy[i]=logreg.score(X_train,Y_train)\n",
        "    test_accuracy[i]=logreg.score(X_test,Y_test)\n",
        "    critical_accuracy[i]=logreg.score(X_critical,Y_critical)\n",
        "    \n",
        "    print('accuracy: train, test, critical')\n",
        "    print('liblin: %0.4f, %0.4f, %0.4f' %(train_accuracy[i],test_accuracy[i],critical_accuracy[i]) )\n",
        "\n",
        "    # define SGD-based logistic regression\n",
        "    logreg_SGD = linear_model.SGDClassifier(loss='log', penalty='l2', alpha=lmbda, max_iter=100, \n",
        "                                           shuffle=True, random_state=1, learning_rate='optimal')\n",
        "\n",
        "    # fit training data\n",
        "    logreg_SGD.fit(X_train,Y_train)\n",
        "\n",
        "    # check accuracy\n",
        "    train_accuracy_SGD[i]=logreg_SGD.score(X_train,Y_train)\n",
        "    test_accuracy_SGD[i]=logreg_SGD.score(X_test,Y_test)\n",
        "    critical_accuracy_SGD[i]=logreg_SGD.score(X_critical,Y_critical)\n",
        "    \n",
        "    print('SGD: %0.4f, %0.4f, %0.4f' %(train_accuracy_SGD[i],test_accuracy_SGD[i],critical_accuracy_SGD[i]) )\n",
        "\n",
        "    print('finished computing %i/11 iterations' %(i+1))\n",
        "\n",
        "# plot accuracy against regularisation strength\n",
        "plt.semilogx(lmbdas,train_accuracy,'*-b',label='liblinear train')\n",
        "plt.semilogx(lmbdas,test_accuracy,'*-r',label='liblinear test')\n",
        "plt.semilogx(lmbdas,critical_accuracy,'*-g',label='liblinear critical')\n",
        "\n",
        "plt.semilogx(lmbdas,train_accuracy_SGD,'*--b',label='SGD train')\n",
        "plt.semilogx(lmbdas,test_accuracy_SGD,'*--r',label='SGD test')\n",
        "plt.semilogx(lmbdas,critical_accuracy_SGD,'*--g',label='SGD critical')\n",
        "\n",
        "plt.xlabel('$\\\\lambda$')\n",
        "plt.ylabel('$\\\\mathrm{accuracy}$')\n",
        "\n",
        "plt.grid()\n",
        "plt.legend()\n",
        "\n",
        "\n",
        "plt.show()"
      ]
    },
    {
      "cell_type": "markdown",
      "metadata": {
        "collapsed": true,
        "id": "43IPRI2fzMQH"
      },
      "source": [
        "## Interpreting the results\n",
        "\n",
        "The first thing we can read off the figure above is the relative degree of overfitting. This information is contained in the difference in accuracy of our model on the training (blue) and test (red) datasets. Notice that the accuracy difference between test and training sets is significant but not unreasonable, within $10\\%$. Interestingly, which optimizer performs better depends on the value of the regularization strength. Moreover, similar to the Linear Regression examples, we find that there exists a sweet spot for the regularization strength $\\lambda$ that results in optimal performance of the logistic regressor, at about $\\lambda\\sim 10^{-1}$.\n",
        "\n",
        "Due to the physics of the Ising model close to criticality, we expect that predicting the phase of a sample will become much more difficult close to the critical point. We can visually see this by looking at the states in the critical region, (see Fig. above and plot other examples). Notice that it is no longer easy even for a trained human eye to distinguish between the ferromagnetic and the disordered phases close to $T_c$. \n",
        "\n",
        "It is an interesting exercise to compare the training and test accuracies in the ordered and disordered phases to the accuracy of the model near the critical point (i.e. critical states). Recall that the model is not trained on critical states. Notice that the accuracy is about $10\\%$ smaller for the critical states (green curves). \n"
      ]
    },
    {
      "cell_type": "markdown",
      "metadata": {
        "id": "8yHiTmlYzMQI"
      },
      "source": [
        "### Exercises: ###  \n",
        "<ul>\n",
        "<li> Change the regularization to $L^1$, or $L^1+L^2$ (i.e. elastic net, see Notebook 2 for more details), and study the performance of the model.\n",
        "\n",
        "<li> Try out different solvers supported by `LogisticRegression()`, [see online scikit documentation](http://scikit-learn.org/stable/modules/generated/sklearn.linear_model.LogisticRegression.html). How do they compare to `liblinear` and `SGD`?\n",
        "\n",
        "<li> One can expect the regressor to be maximally confused exactly at the critical point. Take the data states for the closest temperature, i.e. $T/J=2.5$, and check the performance of the model. Do we get an accuracy of about $50\\%$? Does this depend on the proportion of ordered to disordered states in the training set?\n",
        "\n",
        "<li> Take the regressor trained on the square lattice Ising model, and try to predict the phases on a different lattice geometry (e.g. triangular or honeycomb). What accuracy do you obtain? Can you roughly locate the critical point in this new model? Note that this requires you to generate your own dataset using Monte-Carlo sampling.\n",
        "</ul>"
      ]
    },
    {
      "cell_type": "markdown",
      "source": [
        "**Answers**\n",
        "\n",
        "-Change the regularization to  𝐿1 , or  𝐿1+𝐿2"
      ],
      "metadata": {
        "id": "mI6JeBQMby-u"
      }
    },
    {
      "cell_type": "code",
      "execution_count": 22,
      "metadata": {
        "outputId": "de1cd1ae-c865-4177-facd-95e59478c94f",
        "colab": {
          "base_uri": "https://localhost:8080/",
          "height": 1000
        },
        "id": "Sjon9VmMcDLp"
      },
      "outputs": [
        {
          "output_type": "stream",
          "name": "stdout",
          "text": [
            "accuracy: train, test, critical\n",
            "liblin: 0.7269, 0.6874, 0.6200\n",
            "elastic_net: 0.7269, 0.6874, 0.6200\n",
            "finished computing 1/11 iterations\n",
            "accuracy: train, test, critical\n",
            "liblin: 0.7269, 0.6874, 0.6200\n",
            "elastic_net: 0.7269, 0.6874, 0.6200\n",
            "finished computing 2/11 iterations\n",
            "accuracy: train, test, critical\n",
            "liblin: 0.7268, 0.6874, 0.6200\n",
            "elastic_net: 0.7268, 0.6874, 0.6200\n",
            "finished computing 3/11 iterations\n",
            "accuracy: train, test, critical\n",
            "liblin: 0.7268, 0.6874, 0.6199\n",
            "elastic_net: 0.7268, 0.6874, 0.6199\n",
            "finished computing 4/11 iterations\n",
            "accuracy: train, test, critical\n",
            "liblin: 0.7268, 0.6874, 0.6201\n",
            "elastic_net: 0.7268, 0.6874, 0.6201\n",
            "finished computing 5/11 iterations\n",
            "accuracy: train, test, critical\n",
            "liblin: 0.7266, 0.6870, 0.6208\n",
            "elastic_net: 0.7266, 0.6870, 0.6208\n",
            "finished computing 6/11 iterations\n",
            "accuracy: train, test, critical\n",
            "liblin: 0.7223, 0.6832, 0.6287\n",
            "elastic_net: 0.7221, 0.6830, 0.6289\n",
            "finished computing 7/11 iterations\n",
            "accuracy: train, test, critical\n",
            "liblin: 0.6264, 0.6068, 0.6912\n",
            "elastic_net: 0.6225, 0.6036, 0.6907\n",
            "finished computing 8/11 iterations\n",
            "accuracy: train, test, critical\n",
            "liblin: 0.5402, 0.5367, 0.6667\n",
            "elastic_net: 0.5402, 0.5367, 0.6667\n",
            "finished computing 9/11 iterations\n",
            "accuracy: train, test, critical\n",
            "liblin: 0.4598, 0.4633, 0.3333\n",
            "elastic_net: 0.5402, 0.5367, 0.6667\n",
            "finished computing 10/11 iterations\n",
            "accuracy: train, test, critical\n",
            "liblin: 0.4598, 0.4633, 0.3333\n",
            "elastic_net: 0.5402, 0.5367, 0.6667\n",
            "finished computing 11/11 iterations\n"
          ]
        },
        {
          "output_type": "display_data",
          "data": {
            "text/plain": [
              "<Figure size 432x288 with 1 Axes>"
            ],
            "image/png": "[encoded data removed]"
          },
          "metadata": {
            "needs_background": "light"
          }
        }
      ],
      "source": [
        "###### apply logistic regression\n",
        "from sklearn import linear_model\n",
        "from sklearn.neural_network import MLPClassifier\n",
        "\n",
        "\n",
        "# define regularisation parameter\n",
        "lmbdas=np.logspace(-5,5,11)\n",
        "\n",
        "# preallocate data\n",
        "train_accuracy=np.zeros(lmbdas.shape,np.float64)\n",
        "test_accuracy=np.zeros(lmbdas.shape,np.float64)\n",
        "critical_accuracy=np.zeros(lmbdas.shape,np.float64)\n",
        "\n",
        "train_accuracy_elastic=np.zeros(lmbdas.shape,np.float64)\n",
        "test_accuracy_elastic=np.zeros(lmbdas.shape,np.float64)\n",
        "critical_accuracy_elastic=np.zeros(lmbdas.shape,np.float64)\n",
        "\n",
        "# loop over regularisation strength\n",
        "for i,lmbda in enumerate(lmbdas):\n",
        "\n",
        "    # define logistic regressor l1\n",
        "    L1=linear_model.LogisticRegression(penalty='l1',C=1.0/lmbda,random_state=1,verbose=0,max_iter=int(1E3),tol=1E-5,\n",
        "                                           solver='liblinear')\n",
        "\n",
        "    # fit training data\n",
        "    L1.fit(X_train, Y_train)\n",
        "\n",
        "    # check accuracy\n",
        "    train_accuracy[i]=L1.score(X_train,Y_train)\n",
        "    test_accuracy[i]=L1.score(X_test,Y_test)\n",
        "    critical_accuracy[i]=L1.score(X_critical,Y_critical)\n",
        "    \n",
        "    print('accuracy: train, test, critical')\n",
        "    print('liblin: %0.4f, %0.4f, %0.4f' %(train_accuracy[i],test_accuracy[i],critical_accuracy[i]) )\n",
        "\n",
        "    # define logistic regressor l1+l2\n",
        "    elastic_net = linear_model.LogisticRegression(penalty='elasticnet',C=1.0/lmbda,random_state=1,verbose=0,max_iter=int(1E3),tol=1E-5,l1_ratio=1,\n",
        "                                           solver='saga')\n",
        "\n",
        "    # fit training data\n",
        "    elastic_net.fit(X_train,Y_train)\n",
        "\n",
        "    # check accuracy\n",
        "    train_accuracy_elastic[i]=elastic_net.score(X_train,Y_train)\n",
        "    test_accuracy_elastic[i]=elastic_net.score(X_test,Y_test)\n",
        "    critical_accuracy_elastic[i]=elastic_net.score(X_critical,Y_critical)\n",
        "    \n",
        "    print('elastic_net: %0.4f, %0.4f, %0.4f' %(train_accuracy_elastic[i],test_accuracy_elastic[i],critical_accuracy_elastic[i]) )\n",
        "\n",
        "    print('finished computing %i/11 iterations' %(i+1))\n",
        "\n",
        "# plot accuracy against regularisation strength\n",
        "plt.semilogx(lmbdas,train_accuracy,'*-b',label='L1 train')\n",
        "plt.semilogx(lmbdas,test_accuracy,'*-r',label='L1 test')\n",
        "plt.semilogx(lmbdas,critical_accuracy,'*-g',label='L1 critical')\n",
        "\n",
        "plt.semilogx(lmbdas,train_accuracy_SGD,'*--b',label='L1+L2 train')\n",
        "plt.semilogx(lmbdas,test_accuracy_SGD,'*--r',label='L1+L2 test')\n",
        "plt.semilogx(lmbdas,critical_accuracy_SGD,'*--g',label='L1+L2 critical')\n",
        "\n",
        "plt.xlabel('$\\\\lambda$')\n",
        "plt.ylabel('$\\\\mathrm{accuracy}$')\n",
        "\n",
        "plt.grid()\n",
        "plt.legend()\n",
        "\n",
        "\n",
        "plt.show()"
      ]
    },
    {
      "cell_type": "markdown",
      "source": [
        "-Try out different solvers"
      ],
      "metadata": {
        "id": "8Ql0Y8z4j8wV"
      }
    },
    {
      "cell_type": "code",
      "source": [
        "\n",
        "# not sure why it's giving me this NotFittedError\n",
        "\n",
        "###### apply logistic regression\n",
        "from sklearn import linear_model\n",
        "from sklearn.neural_network import MLPClassifier\n",
        "\n",
        "\n",
        "# define regularisation parameter\n",
        "lmbdas=np.logspace(-5,5,11)\n",
        "\n",
        "# preallocate data\n",
        "train_accuracy=np.zeros(lmbdas.shape,np.float64)\n",
        "test_accuracy=np.zeros(lmbdas.shape,np.float64)\n",
        "critical_accuracy=np.zeros(lmbdas.shape,np.float64)\n",
        "\n",
        "train_accuracy_SGD=np.zeros(lmbdas.shape,np.float64)\n",
        "test_accuracy_SGD=np.zeros(lmbdas.shape,np.float64)\n",
        "critical_accuracy_SGD=np.zeros(lmbdas.shape,np.float64)\n",
        "\n",
        "train_accuracy_newton_cholesky=np.zeros(lmbdas.shape,np.float64)\n",
        "test_accuracy_newton_cholesky=np.zeros(lmbdas.shape,np.float64)\n",
        "critical_accuracy_newton_cholesky=np.zeros(lmbdas.shape,np.float64)\n",
        "\n",
        "train_accuracy_sag=np.zeros(lmbdas.shape,np.float64)\n",
        "test_accuracy_sag=np.zeros(lmbdas.shape,np.float64)\n",
        "critical_accuracy_sag=np.zeros(lmbdas.shape,np.float64)\n",
        "\n",
        "# loop over regularisation strength\n",
        "for i,lmbda in enumerate(lmbdas):\n",
        "\n",
        "    \n",
        "    # define logistic regressor\n",
        "    logreg_liblinear=linear_model.LogisticRegression(C=1.0/lmbda,random_state=1,verbose=0,max_iter=int(1E3),tol=1E-5,\n",
        "                                           solver='liblinear')\n",
        "\n",
        "    # fit training data\n",
        "    logreg_liblinear.fit(X_train, Y_train)\n",
        "\n",
        "    # check accuracy\n",
        "    train_accuracy[i]=logreg_liblinear.score(X_train,Y_train)\n",
        "    test_accuracy[i]=logreg_liblinear.score(X_test,Y_test)\n",
        "    critical_accuracy[i]=logreg_liblinear.score(X_critical,Y_critical)\n",
        "    \n",
        "    print('accuracy: train, test, critical')\n",
        "    print('liblin: %0.4f, %0.4f, %0.4f' %(train_accuracy[i],test_accuracy[i],critical_accuracy[i]) )\n",
        "    \n",
        "    # define SGD-based logistic regression\n",
        "    logreg_SGD = linear_model.SGDClassifier(loss='log', penalty='l2', alpha=lmbda, max_iter=100, \n",
        "                                           shuffle=True, random_state=1, learning_rate='optimal')\n",
        "\n",
        "    # fit training data\n",
        "    logreg_SGD.fit(X_train,Y_train)\n",
        "\n",
        "    # check accuracy\n",
        "    train_accuracy_SGD[i]=logreg_SGD.score(X_train,Y_train)\n",
        "    test_accuracy_SGD[i]=logreg_SGD.score(X_test,Y_test)\n",
        "    critical_accuracy_SGD[i]=logreg_SGD.score(X_critical,Y_critical)\n",
        "    \n",
        "    print('SGD: %0.4f, %0.4f, %0.4f' %(train_accuracy_SGD[i],test_accuracy_SGD[i],critical_accuracy_SGD[i]) )\n",
        "\n",
        "    print('finished computing %i/11 iterations' %(i+1))\n",
        "\n",
        "    # define logistic regressor with newton_cholesky\n",
        "    logreg_newton_cholesky=linear_model.LogisticRegression(C=1.0/lmbda,random_state=1,verbose=0,max_iter=int(1E3),tol=1E-5,\n",
        "                                           solver='newton_cholesky')\n",
        "    \n",
        "\n",
        "    # check accuracy\n",
        "    train_accuracy_newton_cholesky[i]=logreg_newton_cholesky.score(X_train,Y_train)\n",
        "    test_accuracy_newton_cholesky[i]=logreg_newton_cholesky.score(X_test,Y_test)\n",
        "    critical_accuracy_newton_cholesky[i]=logreg_newton_cholesky.score(X_critical,Y_critical)\n",
        "    \n",
        "    print('l2 with newton cholesky: %0.4f, %0.4f, %0.4f' %(train_accuracy_newton_cholesky[i],test_accuracy_newton_cholesky[i],critical_accuracy_newton_cholesky[i]) )\n",
        "\n",
        "    print('finished computing %i/11 iterations' %(i+1))\n",
        "\n",
        "    # define logistic regressor with sag\n",
        "    logreg_newton_cholesky=linear_model.LogisticRegression(C=1.0/lmbda,random_state=1,verbose=0,max_iter=int(1E3),tol=1E-5,\n",
        "                                           solver='sag')\n",
        "    \n",
        "\n",
        "    # check accuracy\n",
        "    train_accuracy_sag[i]=logreg_newton_cholesky.score(X_train,Y_train)\n",
        "    test_accuracy_sag[i]=logreg_newton_cholesky.score(X_test,Y_test)\n",
        "    critical_accuracy_sag[i]=logreg_newton_cholesky.score(X_critical,Y_critical)\n",
        "    \n",
        "    print('l2 with sag: %0.4f, %0.4f, %0.4f' %(train_accuracy_sag[i],test_accuracy_sag[i],critical_accuracy_sag[i]) )\n",
        "\n",
        "    print('finished computing %i/11 iterations' %(i+1))\n",
        "\n",
        "\n",
        "# plot accuracy against regularisation strength\n",
        "plt.semilogx(lmbdas,train_accuracy,'*-b',label='liblinear train')\n",
        "plt.semilogx(lmbdas,test_accuracy,'*-r',label='liblinear test')\n",
        "plt.semilogx(lmbdas,critical_accuracy,'*-g',label='liblinear critical')\n",
        "\n",
        "plt.semilogx(lmbdas,train_accuracy_SGD,'*--b',label='SGD train')\n",
        "plt.semilogx(lmbdas,test_accuracy_SGD,'*--r',label='SGD test')\n",
        "plt.semilogx(lmbdas,critical_accuracy_SGD,'*--g',label='SGD critical')\n",
        "\n",
        "plt.semilogx(lmbdas,train_accuracy_newton_cholesky,'<-b',label='train_accuracy_newton_cholesky')\n",
        "plt.semilogx(lmbdas,test_accuracy_newton_cholesky,'<-r',label='test_accuracy_newton_cholesky')\n",
        "plt.semilogx(lmbdas,critical_accuracy_newton_cholesky,'<-g',label='critical_accuracy_newton_cholesky')\n",
        "\n",
        "plt.semilogx(lmbdas,train_accuracy_sag,'*b',label='train_accuracy_sag')\n",
        "plt.semilogx(lmbdas,test_accuracy_sag,'*r',label='test_accuracy_sag')\n",
        "plt.semilogx(lmbdas,critical_accuracy_sag,'*g',label='critical_accuracy_sag')\n",
        "\n",
        "plt.xlabel('$\\\\lambda$')\n",
        "plt.ylabel('$\\\\mathrm{accuracy}$')\n",
        "\n",
        "plt.grid()\n",
        "plt.legend()\n",
        "\n",
        "\n",
        "plt.show()"
      ],
      "metadata": {
        "colab": {
          "base_uri": "https://localhost:8080/",
          "height": 552
        },
        "id": "FDMjobUwj-0i",
        "outputId": "55da72aa-13f9-4f8a-8270-f34e31da82a8"
      },
      "execution_count": 37,
      "outputs": [
        {
          "output_type": "stream",
          "name": "stdout",
          "text": [
            "accuracy: train, test, critical\n",
            "liblin: 0.7266, 0.6897, 0.6222\n"
          ]
        },
        {
          "output_type": "stream",
          "name": "stderr",
          "text": [
            "/usr/local/lib/python3.8/dist-packages/sklearn/linear_model/_stochastic_gradient.py:163: FutureWarning: The loss 'log' was deprecated in v1.1 and will be removed in version 1.3. Use `loss='log_loss'` which is equivalent.\n",
            "  warnings.warn(\n",
            "/usr/local/lib/python3.8/dist-packages/sklearn/linear_model/_stochastic_gradient.py:683: ConvergenceWarning: Maximum number of iteration reached before convergence. Consider increasing max_iter to improve the fit.\n",
            "  self._partial_fit(\n"
          ]
        },
        {
          "output_type": "stream",
          "name": "stdout",
          "text": [
            "SGD: 0.4876, 0.4741, 0.5092\n",
            "finished computing 1/11 iterations\n"
          ]
        },
        {
          "output_type": "error",
          "ename": "NotFittedError",
          "evalue": "ignored",
          "traceback": [
            "\u001b[0;31m---------------------------------------------------------------------------\u001b[0m",
            "\u001b[0;31mNotFittedError\u001b[0m                            Traceback (most recent call last)",
            "\u001b[0;32m<ipython-input-37-bb34bfe5c0dd>\u001b[0m in \u001b[0;36m<module>\u001b[0;34m\u001b[0m\n\u001b[1;32m     33\u001b[0m \u001b[0;34m\u001b[0m\u001b[0m\n\u001b[1;32m     34\u001b[0m     \u001b[0;31m# fit training data\u001b[0m\u001b[0;34m\u001b[0m\u001b[0;34m\u001b[0m\u001b[0;34m\u001b[0m\u001b[0m\n\u001b[0;32m---> 35\u001b[0;31m     \u001b[0mlogreg_liblinear\u001b[0m\u001b[0;34m.\u001b[0m\u001b[0mfit\u001b[0m\u001b[0;34m(\u001b[0m\u001b[0mX_train\u001b[0m\u001b[0;34m,\u001b[0m \u001b[0mY_train\u001b[0m\u001b[0;34m)\u001b[0m\u001b[0;34m\u001b[0m\u001b[0;34m\u001b[0m\u001b[0m\n\u001b[0m\u001b[1;32m     36\u001b[0m \u001b[0;34m\u001b[0m\u001b[0m\n\u001b[1;32m     37\u001b[0m     \u001b[0;31m# check accuracy\u001b[0m\u001b[0;34m\u001b[0m\u001b[0;34m\u001b[0m\u001b[0;34m\u001b[0m\u001b[0m\n",
            "\u001b[0;32m/usr/local/lib/python3.8/dist-packages/sklearn/base.py\u001b[0m in \u001b[0;36mscore\u001b[0;34m(self, X, y, sample_weight)\u001b[0m\n\u001b[1;32m    647\u001b[0m         \u001b[0;32mfrom\u001b[0m \u001b[0;34m.\u001b[0m\u001b[0mmetrics\u001b[0m \u001b[0;32mimport\u001b[0m \u001b[0maccuracy_score\u001b[0m\u001b[0;34m\u001b[0m\u001b[0;34m\u001b[0m\u001b[0m\n\u001b[1;32m    648\u001b[0m \u001b[0;34m\u001b[0m\u001b[0m\n\u001b[0;32m--> 649\u001b[0;31m         \u001b[0;32mreturn\u001b[0m \u001b[0maccuracy_score\u001b[0m\u001b[0;34m(\u001b[0m\u001b[0my\u001b[0m\u001b[0;34m,\u001b[0m \u001b[0mself\u001b[0m\u001b[0;34m.\u001b[0m\u001b[0mpredict\u001b[0m\u001b[0;34m(\u001b[0m\u001b[0mX\u001b[0m\u001b[0;34m)\u001b[0m\u001b[0;34m,\u001b[0m \u001b[0msample_weight\u001b[0m\u001b[0;34m=\u001b[0m\u001b[0msample_weight\u001b[0m\u001b[0;34m)\u001b[0m\u001b[0;34m\u001b[0m\u001b[0;34m\u001b[0m\u001b[0m\n\u001b[0m\u001b[1;32m    650\u001b[0m \u001b[0;34m\u001b[0m\u001b[0m\n\u001b[1;32m    651\u001b[0m     \u001b[0;32mdef\u001b[0m \u001b[0m_more_tags\u001b[0m\u001b[0;34m(\u001b[0m\u001b[0mself\u001b[0m\u001b[0;34m)\u001b[0m\u001b[0;34m:\u001b[0m\u001b[0;34m\u001b[0m\u001b[0;34m\u001b[0m\u001b[0m\n",
            "\u001b[0;32m/usr/local/lib/python3.8/dist-packages/sklearn/linear_model/_base.py\u001b[0m in \u001b[0;36mpredict\u001b[0;34m(self, X)\u001b[0m\n\u001b[1;32m    417\u001b[0m         \"\"\"\n\u001b[1;32m    418\u001b[0m         \u001b[0mxp\u001b[0m\u001b[0;34m,\u001b[0m \u001b[0m_\u001b[0m \u001b[0;34m=\u001b[0m \u001b[0mget_namespace\u001b[0m\u001b[0;34m(\u001b[0m\u001b[0mX\u001b[0m\u001b[0;34m)\u001b[0m\u001b[0;34m\u001b[0m\u001b[0;34m\u001b[0m\u001b[0m\n\u001b[0;32m--> 419\u001b[0;31m         \u001b[0mscores\u001b[0m \u001b[0;34m=\u001b[0m \u001b[0mself\u001b[0m\u001b[0;34m.\u001b[0m\u001b[0mdecision_function\u001b[0m\u001b[0;34m(\u001b[0m\u001b[0mX\u001b[0m\u001b[0;34m)\u001b[0m\u001b[0;34m\u001b[0m\u001b[0;34m\u001b[0m\u001b[0m\n\u001b[0m\u001b[1;32m    420\u001b[0m         \u001b[0;32mif\u001b[0m \u001b[0mlen\u001b[0m\u001b[0;34m(\u001b[0m\u001b[0mscores\u001b[0m\u001b[0;34m.\u001b[0m\u001b[0mshape\u001b[0m\u001b[0;34m)\u001b[0m \u001b[0;34m==\u001b[0m \u001b[0;36m1\u001b[0m\u001b[0;34m:\u001b[0m\u001b[0;34m\u001b[0m\u001b[0;34m\u001b[0m\u001b[0m\n\u001b[1;32m    421\u001b[0m             \u001b[0mindices\u001b[0m \u001b[0;34m=\u001b[0m \u001b[0mxp\u001b[0m\u001b[0;34m.\u001b[0m\u001b[0mastype\u001b[0m\u001b[0;34m(\u001b[0m\u001b[0mscores\u001b[0m \u001b[0;34m>\u001b[0m \u001b[0;36m0\u001b[0m\u001b[0;34m,\u001b[0m \u001b[0mint\u001b[0m\u001b[0;34m)\u001b[0m\u001b[0;34m\u001b[0m\u001b[0;34m\u001b[0m\u001b[0m\n",
            "\u001b[0;32m/usr/local/lib/python3.8/dist-packages/sklearn/linear_model/_base.py\u001b[0m in \u001b[0;36mdecision_function\u001b[0;34m(self, X)\u001b[0m\n\u001b[1;32m    395\u001b[0m             \u001b[0mthis\u001b[0m \u001b[0;32mclass\u001b[0m \u001b[0mwould\u001b[0m \u001b[0mbe\u001b[0m \u001b[0mpredicted\u001b[0m\u001b[0;34m.\u001b[0m\u001b[0;34m\u001b[0m\u001b[0;34m\u001b[0m\u001b[0m\n\u001b[1;32m    396\u001b[0m         \"\"\"\n\u001b[0;32m--> 397\u001b[0;31m         \u001b[0mcheck_is_fitted\u001b[0m\u001b[0;34m(\u001b[0m\u001b[0mself\u001b[0m\u001b[0;34m)\u001b[0m\u001b[0;34m\u001b[0m\u001b[0;34m\u001b[0m\u001b[0m\n\u001b[0m\u001b[1;32m    398\u001b[0m         \u001b[0mxp\u001b[0m\u001b[0;34m,\u001b[0m \u001b[0m_\u001b[0m \u001b[0;34m=\u001b[0m \u001b[0mget_namespace\u001b[0m\u001b[0;34m(\u001b[0m\u001b[0mX\u001b[0m\u001b[0;34m)\u001b[0m\u001b[0;34m\u001b[0m\u001b[0;34m\u001b[0m\u001b[0m\n\u001b[1;32m    399\u001b[0m \u001b[0;34m\u001b[0m\u001b[0m\n",
            "\u001b[0;32m/usr/local/lib/python3.8/dist-packages/sklearn/utils/validation.py\u001b[0m in \u001b[0;36mcheck_is_fitted\u001b[0;34m(estimator, attributes, msg, all_or_any)\u001b[0m\n\u001b[1;32m   1388\u001b[0m \u001b[0;34m\u001b[0m\u001b[0m\n\u001b[1;32m   1389\u001b[0m     \u001b[0;32mif\u001b[0m \u001b[0;32mnot\u001b[0m \u001b[0mfitted\u001b[0m\u001b[0;34m:\u001b[0m\u001b[0;34m\u001b[0m\u001b[0;34m\u001b[0m\u001b[0m\n\u001b[0;32m-> 1390\u001b[0;31m         \u001b[0;32mraise\u001b[0m \u001b[0mNotFittedError\u001b[0m\u001b[0;34m(\u001b[0m\u001b[0mmsg\u001b[0m \u001b[0;34m%\u001b[0m \u001b[0;34m{\u001b[0m\u001b[0;34m\"name\"\u001b[0m\u001b[0;34m:\u001b[0m \u001b[0mtype\u001b[0m\u001b[0;34m(\u001b[0m\u001b[0mestimator\u001b[0m\u001b[0;34m)\u001b[0m\u001b[0;34m.\u001b[0m\u001b[0m__name__\u001b[0m\u001b[0;34m}\u001b[0m\u001b[0;34m)\u001b[0m\u001b[0;34m\u001b[0m\u001b[0;34m\u001b[0m\u001b[0m\n\u001b[0m\u001b[1;32m   1391\u001b[0m \u001b[0;34m\u001b[0m\u001b[0m\n\u001b[1;32m   1392\u001b[0m \u001b[0;34m\u001b[0m\u001b[0m\n",
            "\u001b[0;31mNotFittedError\u001b[0m: This LogisticRegression instance is not fitted yet. Call 'fit' with appropriate arguments before using this estimator."
          ]
        }
      ]
    },
    {
      "cell_type": "markdown",
      "source": [
        "-one can expect the regressor to be maximally confused exactly at the critical point. Take the data states for the closest temperature, i.e.  𝑇/𝐽=2.5 , and check the performance of the model. Do we get an accuracy of about  50% ? Does this depend on the proportion of ordered to disordered states in the training set?\n",
        "\n",
        "-not sure how to do this\n",
        "\n",
        "\n",
        "-Take the regressor trained on the square lattice Ising model, and try to predict the phases on a different lattice geometry (e.g. triangular or honeycomb). What accuracy do you obtain? Can you roughly locate the critical point in this new model? Note that this requires you to generate your own dataset using Monte-Carlo sampling.\n",
        "\n",
        "-not sure how to do this either"
      ],
      "metadata": {
        "id": "kRUF7Ti0ud9y"
      }
    }
  ],
  "metadata": {
    "anaconda-cloud": {},
    "kernelspec": {
      "display_name": "Python mlreview",
      "language": "python",
      "name": "mlreview"
    },
    "language_info": {
      "codemirror_mode": {
        "name": "ipython",
        "version": 3
      },
      "file_extension": ".py",
      "mimetype": "text/x-python",
      "name": "python",
      "nbconvert_exporter": "python",
      "pygments_lexer": "ipython3",
      "version": "3.6.6"
    },
    "colab": {
      "provenance": []
    },
    "accelerator": "GPU",
    "gpuClass": "standard"
  },
  "nbformat": 4,
  "nbformat_minor": 0
}